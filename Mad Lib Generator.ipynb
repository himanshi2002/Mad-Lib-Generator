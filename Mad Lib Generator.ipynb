{
 "cells": [
  {
   "cell_type": "code",
   "execution_count": 4,
   "metadata": {},
   "outputs": [
    {
     "name": "stdout",
     "output_type": "stream",
     "text": [
      "enter adjective:amazing\n",
      "enter verb:swim\n",
      "enter verb:energetic\n",
      "enter famous person:iron man\n",
      "Computer programming is so amazing! It makes me so excited all the time becauseI love to swim.Stay hydrated and energetic like you are iron man!\n"
     ]
    }
   ],
   "source": [
    "adj=input(\"enter adjective:\")\n",
    "verb1=input(\"enter verb:\")\n",
    "verb2=input(\"enter verb:\")\n",
    "famous_person=input(\"enter famous person:\")\n",
    "madlib=f\"Computer programming is so {adj}! It makes me so excited all the time because\\\n",
    "I love to {verb1}.Stay hydrated and {verb2} like you are {famous_person}!\"\n",
    "print(madlib)"
   ]
  },
  {
   "cell_type": "code",
   "execution_count": null,
   "metadata": {},
   "outputs": [],
   "source": []
  }
 ],
 "metadata": {
  "kernelspec": {
   "display_name": "Python 3",
   "language": "python",
   "name": "python3"
  },
  "language_info": {
   "codemirror_mode": {
    "name": "ipython",
    "version": 3
   },
   "file_extension": ".py",
   "mimetype": "text/x-python",
   "name": "python",
   "nbconvert_exporter": "python",
   "pygments_lexer": "ipython3",
   "version": "3.8.3"
  }
 },
 "nbformat": 4,
 "nbformat_minor": 4
}
